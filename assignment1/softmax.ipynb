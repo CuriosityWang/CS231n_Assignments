{
 "cells": [
  {
   "cell_type": "code",
   "execution_count": null,
   "metadata": {},
   "outputs": [],
   "source": [
    "# This mounts your Google Drive to the Colab VM.\n",
    "from google.colab import drive\n",
    "drive.mount('/content/drive', force_remount=True)\n",
    "\n",
    "# Enter the foldername in your Drive where you have saved the unzipped\n",
    "# assignment folder, e.g. 'cs231n/assignments/assignment1/'\n",
    "FOLDERNAME = None\n",
    "assert FOLDERNAME is not None, \"[!] Enter the foldername.\"\n",
    "\n",
    "# Now that we've mounted your Drive, this ensures that\n",
    "# the Python interpreter of the Colab VM can load\n",
    "# python files from within it.\n",
    "import sys\n",
    "sys.path.append('/content/drive/My Drive/{}'.format(FOLDERNAME))\n",
    "\n",
    "# This downloads the CIFAR-10 dataset to your Drive\n",
    "# if it doesn't already exist.\n",
    "%cd drive/My\\ Drive/$FOLDERNAME/cs231n/datasets/\n",
    "!bash get_datasets.sh\n",
    "%cd /content/drive/My\\ Drive/$FOLDERNAME"
   ]
  },
  {
   "cell_type": "markdown",
   "metadata": {
    "tags": [
     "pdf-title"
    ]
   },
   "source": [
    "# Softmax exercise\n",
    "\n",
    "*Complete and hand in this completed worksheet (including its outputs and any supporting code outside of the worksheet) with your assignment submission. For more details see the [assignments page](http://vision.stanford.edu/teaching/cs231n/assignments.html) on the course website.*\n",
    "\n",
    "This exercise is analogous to the SVM exercise. You will:\n",
    "\n",
    "- implement a fully-vectorized **loss function** for the Softmax classifier\n",
    "- implement the fully-vectorized expression for its **analytic gradient**\n",
    "- **check your implementation** with numerical gradient\n",
    "- use a validation set to **tune the learning rate and regularization** strength\n",
    "- **optimize** the loss function with **SGD**\n",
    "- **visualize** the final learned weights\n"
   ]
  },
  {
   "cell_type": "code",
   "execution_count": 1,
   "metadata": {
    "tags": [
     "pdf-ignore"
    ]
   },
   "outputs": [],
   "source": [
    "import random\n",
    "import numpy as np\n",
    "from cs231n.data_utils import load_CIFAR10\n",
    "import matplotlib.pyplot as plt\n",
    "\n",
    "%matplotlib inline\n",
    "plt.rcParams['figure.figsize'] = (10.0, 8.0) # set default size of plots\n",
    "plt.rcParams['image.interpolation'] = 'nearest'\n",
    "plt.rcParams['image.cmap'] = 'gray'\n",
    "\n",
    "# for auto-reloading extenrnal modules\n",
    "# see http://stackoverflow.com/questions/1907993/autoreload-of-modules-in-ipython\n",
    "%load_ext autoreload\n",
    "%autoreload 2"
   ]
  },
  {
   "cell_type": "code",
   "execution_count": 2,
   "metadata": {
    "tags": [
     "pdf-ignore"
    ]
   },
   "outputs": [
    {
     "name": "stdout",
     "output_type": "stream",
     "text": [
      "Train data shape:  (49000, 3073)\n",
      "Train labels shape:  (49000,)\n",
      "Validation data shape:  (1000, 3073)\n",
      "Validation labels shape:  (1000,)\n",
      "Test data shape:  (1000, 3073)\n",
      "Test labels shape:  (1000,)\n",
      "dev data shape:  (500, 3073)\n",
      "dev labels shape:  (500,)\n"
     ]
    }
   ],
   "source": [
    "def get_CIFAR10_data(num_training=49000, num_validation=1000, num_test=1000, num_dev=500):\n",
    "    \"\"\"\n",
    "    Load the CIFAR-10 dataset from disk and perform preprocessing to prepare\n",
    "    it for the linear classifier. These are the same steps as we used for the\n",
    "    SVM, but condensed to a single function.  \n",
    "    \"\"\"\n",
    "    # Load the raw CIFAR-10 data\n",
    "    cifar10_dir = 'cs231n/datasets/cifar-10-batches-py'\n",
    "    \n",
    "    # Cleaning up variables to prevent loading data multiple times (which may cause memory issue)\n",
    "    try:\n",
    "       del X_train, y_train\n",
    "       del X_test, y_test\n",
    "       print('Clear previously loaded data.')\n",
    "    except:\n",
    "       pass\n",
    "\n",
    "    X_train, y_train, X_test, y_test = load_CIFAR10(cifar10_dir)\n",
    "    \n",
    "    # subsample the data\n",
    "    mask = list(range(num_training, num_training + num_validation))\n",
    "    X_val = X_train[mask]\n",
    "    y_val = y_train[mask]\n",
    "    mask = list(range(num_training))\n",
    "    X_train = X_train[mask]\n",
    "    y_train = y_train[mask]\n",
    "    mask = list(range(num_test))\n",
    "    X_test = X_test[mask]\n",
    "    y_test = y_test[mask]\n",
    "    mask = np.random.choice(num_training, num_dev, replace=False)\n",
    "    X_dev = X_train[mask]\n",
    "    y_dev = y_train[mask]\n",
    "    \n",
    "    # Preprocessing: reshape the image data into rows\n",
    "    X_train = np.reshape(X_train, (X_train.shape[0], -1))\n",
    "    X_val = np.reshape(X_val, (X_val.shape[0], -1))\n",
    "    X_test = np.reshape(X_test, (X_test.shape[0], -1))\n",
    "    X_dev = np.reshape(X_dev, (X_dev.shape[0], -1))\n",
    "    \n",
    "    # Normalize the data: subtract the mean image\n",
    "    mean_image = np.mean(X_train, axis = 0)\n",
    "    X_train -= mean_image\n",
    "    X_val -= mean_image\n",
    "    X_test -= mean_image\n",
    "    X_dev -= mean_image\n",
    "    \n",
    "    # add bias dimension and transform into columns\n",
    "    X_train = np.hstack([X_train, np.ones((X_train.shape[0], 1))])\n",
    "    X_val = np.hstack([X_val, np.ones((X_val.shape[0], 1))])\n",
    "    X_test = np.hstack([X_test, np.ones((X_test.shape[0], 1))])\n",
    "    X_dev = np.hstack([X_dev, np.ones((X_dev.shape[0], 1))])\n",
    "    \n",
    "    return X_train, y_train, X_val, y_val, X_test, y_test, X_dev, y_dev\n",
    "\n",
    "\n",
    "# Invoke the above function to get our data.\n",
    "X_train, y_train, X_val, y_val, X_test, y_test, X_dev, y_dev = get_CIFAR10_data()\n",
    "print('Train data shape: ', X_train.shape)\n",
    "print('Train labels shape: ', y_train.shape)\n",
    "print('Validation data shape: ', X_val.shape)\n",
    "print('Validation labels shape: ', y_val.shape)\n",
    "print('Test data shape: ', X_test.shape)\n",
    "print('Test labels shape: ', y_test.shape)\n",
    "print('dev data shape: ', X_dev.shape)\n",
    "print('dev labels shape: ', y_dev.shape)"
   ]
  },
  {
   "cell_type": "markdown",
   "metadata": {},
   "source": [
    "## Softmax Classifier\n",
    "\n",
    "Your code for this section will all be written inside `cs231n/classifiers/softmax.py`.\n"
   ]
  },
  {
   "cell_type": "code",
   "execution_count": 3,
   "metadata": {},
   "outputs": [
    {
     "name": "stdout",
     "output_type": "stream",
     "text": [
      "loss: 2.400784\n",
      "sanity check: 2.302585\n"
     ]
    }
   ],
   "source": [
    "# First implement the naive softmax loss function with nested loops.\n",
    "# Open the file cs231n/classifiers/softmax.py and implement the\n",
    "# softmax_loss_naive function.\n",
    "\n",
    "from cs231n.classifiers.softmax import softmax_loss_naive\n",
    "import time\n",
    "\n",
    "# Generate a random softmax weight matrix and use it to compute the loss.\n",
    "W = np.random.randn(3073, 10) * 0.0001\n",
    "loss, grad = softmax_loss_naive(W, X_dev, y_dev, 0.0)\n",
    "\n",
    "# As a rough sanity check, our loss should be something close to -log(0.1).\n",
    "print('loss: %f' % loss)\n",
    "print('sanity check: %f' % (-np.log(0.1)))"
   ]
  },
  {
   "cell_type": "markdown",
   "metadata": {
    "tags": [
     "pdf-inline"
    ]
   },
   "source": [
    "**Inline Question 1**\n",
    "\n",
    "Why do we expect our loss to be close to -log(0.1)? Explain briefly.**\n",
    "\n",
    "$\\color{blue}{\\textit Your Answer:}$ *观察Loss的公式,可以知道,第一次求loss的时候,求出来的score[i][0...10]这十个数字差距较小* \n"
   ]
  },
  {
   "cell_type": "code",
   "execution_count": 4,
   "metadata": {},
   "outputs": [
    {
     "name": "stdout",
     "output_type": "stream",
     "text": [
      "numerical: -1.602521 analytic: -1.602521, relative error: 3.351893e-09\n",
      "numerical: -0.732703 analytic: -0.732703, relative error: 3.635576e-08\n",
      "numerical: -1.139261 analytic: -1.139261, relative error: 1.462012e-08\n",
      "numerical: -0.075911 analytic: -0.075911, relative error: 2.372770e-07\n",
      "numerical: -3.875372 analytic: -3.875372, relative error: 1.530758e-08\n",
      "numerical: -0.076523 analytic: -0.076523, relative error: 5.399428e-07\n",
      "numerical: 0.019235 analytic: 0.019235, relative error: 1.659456e-06\n",
      "numerical: 1.269133 analytic: 1.269133, relative error: 6.025521e-08\n",
      "numerical: 0.008576 analytic: 0.008576, relative error: 5.521475e-06\n",
      "numerical: 3.241723 analytic: 3.241723, relative error: 1.823993e-08\n",
      "numerical: -0.043153 analytic: -0.043153, relative error: 9.964208e-07\n",
      "numerical: 0.797268 analytic: 0.797268, relative error: 1.169596e-08\n",
      "numerical: 1.324513 analytic: 1.324513, relative error: 4.343226e-08\n",
      "numerical: -1.477234 analytic: -1.477234, relative error: 1.650774e-08\n",
      "numerical: -0.599852 analytic: -0.599852, relative error: 5.626901e-08\n",
      "numerical: 3.670210 analytic: 3.670210, relative error: 1.007589e-08\n",
      "numerical: -2.173409 analytic: -2.173409, relative error: 3.676115e-09\n",
      "numerical: -0.424632 analytic: -0.424632, relative error: 4.385602e-08\n",
      "numerical: -0.401588 analytic: -0.401588, relative error: 7.233755e-08\n",
      "numerical: -0.470309 analytic: -0.470309, relative error: 6.207349e-08\n"
     ]
    }
   ],
   "source": [
    "# Complete the implementation of softmax_loss_naive and implement a (naive)\n",
    "# version of the gradient that uses nested loops.\n",
    "loss, grad = softmax_loss_naive(W, X_dev, y_dev, 0.0)\n",
    "\n",
    "# As we did for the SVM, use numeric gradient checking as a debugging tool.\n",
    "# The numeric gradient should be close to the analytic gradient.\n",
    "from cs231n.gradient_check import grad_check_sparse\n",
    "f = lambda w: softmax_loss_naive(w, X_dev, y_dev, 0.0)[0]\n",
    "grad_numerical = grad_check_sparse(f, W, grad, 10)\n",
    "\n",
    "# similar to SVM case, do another gradient check with regularization\n",
    "loss, grad = softmax_loss_naive(W, X_dev, y_dev, 5e1)\n",
    "f = lambda w: softmax_loss_naive(w, X_dev, y_dev, 5e1)[0]\n",
    "grad_numerical = grad_check_sparse(f, W, grad, 10)"
   ]
  },
  {
   "cell_type": "code",
   "execution_count": 5,
   "metadata": {},
   "outputs": [
    {
     "name": "stdout",
     "output_type": "stream",
     "text": [
      "naive loss: 2.400784e+00 computed in 0.070784s\n",
      "vectorized loss: 2.400784e+00 computed in 0.002988s\n",
      "Loss difference: 0.000000\n",
      "Gradient difference: 0.000000\n"
     ]
    }
   ],
   "source": [
    "# Now that we have a naive implementation of the softmax loss function and its gradient,\n",
    "# implement a vectorized version in softmax_loss_vectorized.\n",
    "# The two versions should compute the same results, but the vectorized version should be\n",
    "# much faster.\n",
    "tic = time.time()\n",
    "loss_naive, grad_naive = softmax_loss_naive(W, X_dev, y_dev, 0.000005)\n",
    "toc = time.time()\n",
    "print('naive loss: %e computed in %fs' % (loss_naive, toc - tic))\n",
    "\n",
    "from cs231n.classifiers.softmax import softmax_loss_vectorized\n",
    "tic = time.time()\n",
    "loss_vectorized, grad_vectorized = softmax_loss_vectorized(W, X_dev, y_dev, 0.000005)\n",
    "toc = time.time()\n",
    "print('vectorized loss: %e computed in %fs' % (loss_vectorized, toc - tic))\n",
    "\n",
    "# As we did for the SVM, we use the Frobenius norm to compare the two versions\n",
    "# of the gradient.\n",
    "grad_difference = np.linalg.norm(grad_naive - grad_vectorized, ord='fro')\n",
    "print('Loss difference: %f' % np.abs(loss_naive - loss_vectorized))\n",
    "print('Gradient difference: %f' % grad_difference)"
   ]
  },
  {
   "cell_type": "code",
   "execution_count": 26,
   "metadata": {
    "id": "tuning",
    "scrolled": true,
    "tags": [
     "code"
    ]
   },
   "outputs": [
    {
     "name": "stdout",
     "output_type": "stream",
     "text": [
      "lr 1.000000e-06 reg 4.000000e+04 train accuracy: 0.306102 val accuracy: 0.314000\n",
      "lr 1.000000e-06 reg 4.055556e+04 train accuracy: 0.315204 val accuracy: 0.338000\n",
      "lr 1.000000e-06 reg 4.111111e+04 train accuracy: 0.306857 val accuracy: 0.310000\n",
      "lr 1.000000e-06 reg 4.166667e+04 train accuracy: 0.290592 val accuracy: 0.302000\n",
      "lr 1.000000e-06 reg 4.222222e+04 train accuracy: 0.306000 val accuracy: 0.321000\n",
      "lr 1.000000e-06 reg 4.277778e+04 train accuracy: 0.283061 val accuracy: 0.286000\n",
      "lr 1.000000e-06 reg 4.333333e+04 train accuracy: 0.297939 val accuracy: 0.305000\n",
      "lr 1.000000e-06 reg 4.388889e+04 train accuracy: 0.311429 val accuracy: 0.321000\n",
      "lr 1.000000e-06 reg 4.444444e+04 train accuracy: 0.308122 val accuracy: 0.320000\n",
      "lr 1.000000e-06 reg 4.500000e+04 train accuracy: 0.302551 val accuracy: 0.303000\n",
      "lr 8.875000e-07 reg 4.000000e+04 train accuracy: 0.303286 val accuracy: 0.313000\n",
      "lr 8.875000e-07 reg 4.055556e+04 train accuracy: 0.286612 val accuracy: 0.294000\n",
      "lr 8.875000e-07 reg 4.111111e+04 train accuracy: 0.299755 val accuracy: 0.312000\n",
      "lr 8.875000e-07 reg 4.166667e+04 train accuracy: 0.295816 val accuracy: 0.319000\n",
      "lr 8.875000e-07 reg 4.222222e+04 train accuracy: 0.304265 val accuracy: 0.310000\n",
      "lr 8.875000e-07 reg 4.277778e+04 train accuracy: 0.312327 val accuracy: 0.325000\n",
      "lr 8.875000e-07 reg 4.333333e+04 train accuracy: 0.308796 val accuracy: 0.328000\n",
      "lr 8.875000e-07 reg 4.388889e+04 train accuracy: 0.295367 val accuracy: 0.317000\n",
      "lr 8.875000e-07 reg 4.444444e+04 train accuracy: 0.299245 val accuracy: 0.305000\n",
      "lr 8.875000e-07 reg 4.500000e+04 train accuracy: 0.294735 val accuracy: 0.309000\n",
      "lr 7.750000e-07 reg 4.000000e+04 train accuracy: 0.306367 val accuracy: 0.313000\n",
      "lr 7.750000e-07 reg 4.055556e+04 train accuracy: 0.294673 val accuracy: 0.305000\n",
      "lr 7.750000e-07 reg 4.111111e+04 train accuracy: 0.309571 val accuracy: 0.325000\n",
      "lr 7.750000e-07 reg 4.166667e+04 train accuracy: 0.299633 val accuracy: 0.322000\n",
      "lr 7.750000e-07 reg 4.222222e+04 train accuracy: 0.299531 val accuracy: 0.309000\n",
      "lr 7.750000e-07 reg 4.277778e+04 train accuracy: 0.308388 val accuracy: 0.320000\n",
      "lr 7.750000e-07 reg 4.333333e+04 train accuracy: 0.294143 val accuracy: 0.309000\n",
      "lr 7.750000e-07 reg 4.388889e+04 train accuracy: 0.316143 val accuracy: 0.316000\n",
      "lr 7.750000e-07 reg 4.444444e+04 train accuracy: 0.282224 val accuracy: 0.306000\n",
      "lr 7.750000e-07 reg 4.500000e+04 train accuracy: 0.301571 val accuracy: 0.317000\n",
      "lr 6.625000e-07 reg 4.000000e+04 train accuracy: 0.301143 val accuracy: 0.317000\n",
      "lr 6.625000e-07 reg 4.055556e+04 train accuracy: 0.322694 val accuracy: 0.321000\n",
      "lr 6.625000e-07 reg 4.111111e+04 train accuracy: 0.312122 val accuracy: 0.319000\n",
      "lr 6.625000e-07 reg 4.166667e+04 train accuracy: 0.315224 val accuracy: 0.319000\n",
      "lr 6.625000e-07 reg 4.222222e+04 train accuracy: 0.302878 val accuracy: 0.319000\n",
      "lr 6.625000e-07 reg 4.277778e+04 train accuracy: 0.302673 val accuracy: 0.311000\n",
      "lr 6.625000e-07 reg 4.333333e+04 train accuracy: 0.310367 val accuracy: 0.320000\n",
      "lr 6.625000e-07 reg 4.388889e+04 train accuracy: 0.301857 val accuracy: 0.307000\n",
      "lr 6.625000e-07 reg 4.444444e+04 train accuracy: 0.301347 val accuracy: 0.300000\n",
      "lr 6.625000e-07 reg 4.500000e+04 train accuracy: 0.298245 val accuracy: 0.312000\n",
      "lr 5.500000e-07 reg 4.000000e+04 train accuracy: 0.296082 val accuracy: 0.302000\n",
      "lr 5.500000e-07 reg 4.055556e+04 train accuracy: 0.318959 val accuracy: 0.325000\n",
      "lr 5.500000e-07 reg 4.111111e+04 train accuracy: 0.295694 val accuracy: 0.308000\n",
      "lr 5.500000e-07 reg 4.166667e+04 train accuracy: 0.302204 val accuracy: 0.315000\n",
      "lr 5.500000e-07 reg 4.222222e+04 train accuracy: 0.305694 val accuracy: 0.328000\n",
      "lr 5.500000e-07 reg 4.277778e+04 train accuracy: 0.313633 val accuracy: 0.326000\n",
      "lr 5.500000e-07 reg 4.333333e+04 train accuracy: 0.306286 val accuracy: 0.311000\n",
      "lr 5.500000e-07 reg 4.388889e+04 train accuracy: 0.302878 val accuracy: 0.321000\n",
      "lr 5.500000e-07 reg 4.444444e+04 train accuracy: 0.311959 val accuracy: 0.330000\n",
      "lr 5.500000e-07 reg 4.500000e+04 train accuracy: 0.317347 val accuracy: 0.343000\n",
      "lr 5.500000e-07 reg 4.000000e+04 train accuracy: 0.296082 val accuracy: 0.302000\n",
      "lr 5.500000e-07 reg 4.055556e+04 train accuracy: 0.318959 val accuracy: 0.325000\n",
      "lr 5.500000e-07 reg 4.111111e+04 train accuracy: 0.295694 val accuracy: 0.308000\n",
      "lr 5.500000e-07 reg 4.166667e+04 train accuracy: 0.302204 val accuracy: 0.315000\n",
      "lr 5.500000e-07 reg 4.222222e+04 train accuracy: 0.305694 val accuracy: 0.328000\n",
      "lr 5.500000e-07 reg 4.277778e+04 train accuracy: 0.313633 val accuracy: 0.326000\n",
      "lr 5.500000e-07 reg 4.333333e+04 train accuracy: 0.306286 val accuracy: 0.311000\n",
      "lr 5.500000e-07 reg 4.388889e+04 train accuracy: 0.302878 val accuracy: 0.321000\n",
      "lr 5.500000e-07 reg 4.444444e+04 train accuracy: 0.311959 val accuracy: 0.330000\n",
      "lr 5.500000e-07 reg 4.500000e+04 train accuracy: 0.317347 val accuracy: 0.343000\n",
      "lr 6.625000e-07 reg 4.000000e+04 train accuracy: 0.301143 val accuracy: 0.317000\n",
      "lr 6.625000e-07 reg 4.055556e+04 train accuracy: 0.322694 val accuracy: 0.321000\n",
      "lr 6.625000e-07 reg 4.111111e+04 train accuracy: 0.312122 val accuracy: 0.319000\n",
      "lr 6.625000e-07 reg 4.166667e+04 train accuracy: 0.315224 val accuracy: 0.319000\n",
      "lr 6.625000e-07 reg 4.222222e+04 train accuracy: 0.302878 val accuracy: 0.319000\n",
      "lr 6.625000e-07 reg 4.277778e+04 train accuracy: 0.302673 val accuracy: 0.311000\n",
      "lr 6.625000e-07 reg 4.333333e+04 train accuracy: 0.310367 val accuracy: 0.320000\n",
      "lr 6.625000e-07 reg 4.388889e+04 train accuracy: 0.301857 val accuracy: 0.307000\n",
      "lr 6.625000e-07 reg 4.444444e+04 train accuracy: 0.301347 val accuracy: 0.300000\n",
      "lr 6.625000e-07 reg 4.500000e+04 train accuracy: 0.298245 val accuracy: 0.312000\n",
      "lr 7.750000e-07 reg 4.000000e+04 train accuracy: 0.306367 val accuracy: 0.313000\n",
      "lr 7.750000e-07 reg 4.055556e+04 train accuracy: 0.294673 val accuracy: 0.305000\n",
      "lr 7.750000e-07 reg 4.111111e+04 train accuracy: 0.309571 val accuracy: 0.325000\n",
      "lr 7.750000e-07 reg 4.166667e+04 train accuracy: 0.299633 val accuracy: 0.322000\n",
      "lr 7.750000e-07 reg 4.222222e+04 train accuracy: 0.299531 val accuracy: 0.309000\n",
      "lr 7.750000e-07 reg 4.277778e+04 train accuracy: 0.308388 val accuracy: 0.320000\n",
      "lr 7.750000e-07 reg 4.333333e+04 train accuracy: 0.294143 val accuracy: 0.309000\n",
      "lr 7.750000e-07 reg 4.388889e+04 train accuracy: 0.316143 val accuracy: 0.316000\n",
      "lr 7.750000e-07 reg 4.444444e+04 train accuracy: 0.282224 val accuracy: 0.306000\n",
      "lr 7.750000e-07 reg 4.500000e+04 train accuracy: 0.301571 val accuracy: 0.317000\n",
      "lr 8.875000e-07 reg 4.000000e+04 train accuracy: 0.303286 val accuracy: 0.313000\n",
      "lr 8.875000e-07 reg 4.055556e+04 train accuracy: 0.286612 val accuracy: 0.294000\n",
      "lr 8.875000e-07 reg 4.111111e+04 train accuracy: 0.299755 val accuracy: 0.312000\n",
      "lr 8.875000e-07 reg 4.166667e+04 train accuracy: 0.295816 val accuracy: 0.319000\n",
      "lr 8.875000e-07 reg 4.222222e+04 train accuracy: 0.304265 val accuracy: 0.310000\n",
      "lr 8.875000e-07 reg 4.277778e+04 train accuracy: 0.312327 val accuracy: 0.325000\n",
      "lr 8.875000e-07 reg 4.333333e+04 train accuracy: 0.308796 val accuracy: 0.328000\n",
      "lr 8.875000e-07 reg 4.388889e+04 train accuracy: 0.295367 val accuracy: 0.317000\n",
      "lr 8.875000e-07 reg 4.444444e+04 train accuracy: 0.299245 val accuracy: 0.305000\n",
      "lr 8.875000e-07 reg 4.500000e+04 train accuracy: 0.294735 val accuracy: 0.309000\n",
      "lr 1.000000e-06 reg 4.000000e+04 train accuracy: 0.306102 val accuracy: 0.314000\n",
      "lr 1.000000e-06 reg 4.055556e+04 train accuracy: 0.315204 val accuracy: 0.338000\n",
      "lr 1.000000e-06 reg 4.111111e+04 train accuracy: 0.306857 val accuracy: 0.310000\n",
      "lr 1.000000e-06 reg 4.166667e+04 train accuracy: 0.290592 val accuracy: 0.302000\n",
      "lr 1.000000e-06 reg 4.222222e+04 train accuracy: 0.306000 val accuracy: 0.321000\n",
      "lr 1.000000e-06 reg 4.277778e+04 train accuracy: 0.283061 val accuracy: 0.286000\n",
      "lr 1.000000e-06 reg 4.333333e+04 train accuracy: 0.297939 val accuracy: 0.305000\n",
      "lr 1.000000e-06 reg 4.388889e+04 train accuracy: 0.311429 val accuracy: 0.321000\n",
      "lr 1.000000e-06 reg 4.444444e+04 train accuracy: 0.308122 val accuracy: 0.320000\n",
      "lr 1.000000e-06 reg 4.500000e+04 train accuracy: 0.302551 val accuracy: 0.303000\n",
      "best validation accuracy achieved during cross-validation: 0.343000\n"
     ]
    }
   ],
   "source": [
    "# Use the validation set to tune hyperparameters (regularization strength and\n",
    "# learning rate). You should experiment with different ranges for the learning\n",
    "# rates and regularization strengths; if you are careful you should be able to\n",
    "# get a classification accuracy of over 0.35 on the validation set.\n",
    "\n",
    "from cs231n.classifiers import Softmax\n",
    "results = {}\n",
    "best_val = -1\n",
    "best_softmax = None\n",
    "\n",
    "################################################################################\n",
    "# TODO:                                                                        #\n",
    "# Use the validation set to set the learning rate and regularization strength. #\n",
    "# This should be identical to the validation that you did for the SVM; save    #\n",
    "# the best trained softmax classifer in best_softmax.                          #\n",
    "################################################################################\n",
    "\n",
    "# Provided as a reference. You may or may not want to change these hyperparameters\n",
    "learning_rates = [1e-6, 5.5e-7]\n",
    "regularization_strengths = [4e4, 4.5e4]\n",
    "\n",
    "# *****START OF YOUR CODE (DO NOT DELETE/MODIFY THIS LINE)*****\n",
    "\n",
    "for lr in np.linspace(learning_rates[0], learning_rates[1], 5):\n",
    "    for reg in np.linspace(regularization_strengths[0], regularization_strengths[1], 10):\n",
    "        optimizer = Softmax()\n",
    "        # training process\n",
    "        optimizer.train(X_train, y_train, lr, reg)\n",
    "        \n",
    "        y_train_predict = optimizer.predict(X_train)\n",
    "        y_val_predict = optimizer.predict(X_val)\n",
    "        \n",
    "        train_accuracy = np.sum(y_train == y_train_predict) / X_train.shape[0] \n",
    "        val_accuracy = np.sum(y_val == y_val_predict) / X_val.shape[0]\n",
    "        \n",
    "        print('lr %e reg %e train accuracy: %f val accuracy: %f' % (\n",
    "                lr, reg, train_accuracy, val_accuracy))\n",
    "\n",
    "        results[(lr, reg)] = (train_accuracy, val_accuracy)\n",
    "        \n",
    "        if best_val < val_accuracy:\n",
    "            best_val = val_accuracy\n",
    "            best_softmax = optimizer\n",
    "            \n",
    "# *****END OF YOUR CODE (DO NOT DELETE/MODIFY THIS LINE)*****\n",
    "    \n",
    "# Print out results.\n",
    "for lr, reg in sorted(results):\n",
    "    train_accuracy, val_accuracy = results[(lr, reg)]\n",
    "    print('lr %e reg %e train accuracy: %f val accuracy: %f' % (\n",
    "                lr, reg, train_accuracy, val_accuracy))\n",
    "    \n",
    "print('best validation accuracy achieved during cross-validation: %f' % best_val)"
   ]
  },
  {
   "cell_type": "code",
   "execution_count": 27,
   "metadata": {
    "id": "test"
   },
   "outputs": [
    {
     "name": "stdout",
     "output_type": "stream",
     "text": [
      "softmax on raw pixels final test set accuracy: 0.330000\n"
     ]
    }
   ],
   "source": [
    "# evaluate on test set\n",
    "# Evaluate the best softmax on test set\n",
    "y_test_pred = best_softmax.predict(X_test)\n",
    "test_accuracy = np.mean(y_test == y_test_pred)\n",
    "print('softmax on raw pixels final test set accuracy: %f' % (test_accuracy, ))"
   ]
  },
  {
   "cell_type": "markdown",
   "metadata": {
    "tags": [
     "pdf-inline"
    ]
   },
   "source": [
    "**Inline Question 2** - *True or False*\n",
    "\n",
    "Suppose the overall training loss is defined as the sum of the per-datapoint loss over all training examples. It is possible to add a new datapoint to a training set that would leave the SVM loss unchanged, but this is not the case with the Softmax classifier loss.\n",
    "\n",
    "$\\color{blue}{\\textit Your Answer:}$\n",
    "\n",
    "\n",
    "$\\color{blue}{\\textit Your Explanation:}$\n",
    "\n",
    "观察公式可以知道  SVM loss 可以是0, 但Softmax classifier loss不可是0"
   ]
  },
  {
   "cell_type": "code",
   "execution_count": 28,
   "metadata": {},
   "outputs": [
    {
     "data": {
      "image/png": "[encoded data removed]",
      "text/plain": [
       "<Figure size 432x288 with 10 Axes>"
      ]
     },
     "metadata": {
      "needs_background": "light"
     },
     "output_type": "display_data"
    }
   ],
   "source": [
    "# Visualize the learned weights for each class\n",
    "w = best_softmax.W[:-1,:] # strip out the bias\n",
    "w = w.reshape(32, 32, 3, 10)\n",
    "\n",
    "w_min, w_max = np.min(w), np.max(w)\n",
    "\n",
    "classes = ['plane', 'car', 'bird', 'cat', 'deer', 'dog', 'frog', 'horse', 'ship', 'truck']\n",
    "for i in range(10):\n",
    "    plt.subplot(2, 5, i + 1)\n",
    "    \n",
    "    # Rescale the weights to be between 0 and 255\n",
    "    wimg = 255.0 * (w[:, :, :, i].squeeze() - w_min) / (w_max - w_min)\n",
    "    plt.imshow(wimg.astype('uint8'))\n",
    "    plt.axis('off')\n",
    "    plt.title(classes[i])"
   ]
  },
  {
   "cell_type": "code",
   "execution_count": null,
   "metadata": {},
   "outputs": [],
   "source": []
  }
 ],
 "metadata": {
  "kernelspec": {
   "display_name": "Python 3",
   "language": "python",
   "name": "python3"
  },
  "language_info": {
   "codemirror_mode": {
    "name": "ipython",
    "version": 3
   },
   "file_extension": ".py",
   "mimetype": "text/x-python",
   "name": "python",
   "nbconvert_exporter": "python",
   "pygments_lexer": "ipython3",
   "version": "3.7.10"
  }
 },
 "nbformat": 4,
 "nbformat_minor": 4
}
